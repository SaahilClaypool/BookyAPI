{
 "cells": [
  {
   "cell_type": "code",
   "execution_count": 1,
   "metadata": {},
   "source": [
    "Environment.Version"
   ],
   "outputs": [
    {
     "output_type": "execute_result",
     "data": {
      "text/html": "<table><thead><tr><th>Major</th><th>Minor</th><th>Build</th><th>Revision</th><th>MajorRevision</th><th>MinorRevision</th></tr></thead><tbody><tr><td><div class=\"dni-plaintext\">5</div></td><td><div class=\"dni-plaintext\">0</div></td><td><div class=\"dni-plaintext\">0</div></td><td><div class=\"dni-plaintext\">-1</div></td><td><div class=\"dni-plaintext\">-1</div></td><td><div class=\"dni-plaintext\">-1</div></td></tr></tbody></table>"
     },
     "execution_count": 1,
     "metadata": {}
    }
   ]
  },
  {
   "cell_type": "code",
   "execution_count": 1,
   "metadata": {},
   "source": [
    "#!pwsh\n",
    "\n",
    "dotnet build"
   ],
   "outputs": [
    {
     "output_type": "execute_result",
     "data": {
      "text/plain": "Microsoft (R) Build Engine version 16.8.0+126527ff1 for .NET\n"
     },
     "execution_count": 1,
     "metadata": {}
    },
    {
     "output_type": "execute_result",
     "data": {
      "text/plain": "Copyright (C) Microsoft Corporation. All rights reserved.\n"
     },
     "execution_count": 1,
     "metadata": {}
    },
    {
     "output_type": "execute_result",
     "data": {
      "text/plain": "\n"
     },
     "execution_count": 1,
     "metadata": {}
    },
    {
     "output_type": "execute_result",
     "data": {
      "text/plain": "  Determining projects to restore...\n"
     },
     "execution_count": 1,
     "metadata": {}
    },
    {
     "output_type": "execute_result",
     "data": {
      "text/plain": "  All projects are up-to-date for restore.\n"
     },
     "execution_count": 1,
     "metadata": {}
    },
    {
     "output_type": "execute_result",
     "data": {
      "text/plain": "  Shared -> /home/saahil/gitProjects/BookyApi/Shared/bin/Debug/net5.0/Shared.dll\n"
     },
     "execution_count": 1,
     "metadata": {}
    },
    {
     "output_type": "execute_result",
     "data": {
      "text/plain": "  UI -> /home/saahil/gitProjects/BookyApi/UI/bin/Debug/net5.0/UI.dll\n"
     },
     "execution_count": 1,
     "metadata": {}
    },
    {
     "output_type": "execute_result",
     "data": {
      "text/plain": "  UI (Blazor output) -> /home/saahil/gitProjects/BookyApi/UI/bin/Debug/net5.0/wwwroot\n"
     },
     "execution_count": 1,
     "metadata": {}
    },
    {
     "output_type": "execute_result",
     "data": {
      "text/plain": "  BookyApi -> /home/saahil/gitProjects/BookyApi/API/bin/Debug/net5.0/BookyApi.dll\n"
     },
     "execution_count": 1,
     "metadata": {}
    },
    {
     "output_type": "execute_result",
     "data": {
      "text/plain": "  BookyApi -> /home/saahil/gitProjects/BookyApi/API/bin/Debug/net5.0/BookyApi.Views.dll\n"
     },
     "execution_count": 1,
     "metadata": {}
    },
    {
     "output_type": "execute_result",
     "data": {
      "text/plain": "\n"
     },
     "execution_count": 1,
     "metadata": {}
    },
    {
     "output_type": "execute_result",
     "data": {
      "text/plain": "Build succeeded.\n"
     },
     "execution_count": 1,
     "metadata": {}
    },
    {
     "output_type": "execute_result",
     "data": {
      "text/plain": "    0 Warning(s)\n"
     },
     "execution_count": 1,
     "metadata": {}
    },
    {
     "output_type": "execute_result",
     "data": {
      "text/plain": "    0 Error(s)\n"
     },
     "execution_count": 1,
     "metadata": {}
    },
    {
     "output_type": "execute_result",
     "data": {
      "text/plain": "\n"
     },
     "execution_count": 1,
     "metadata": {}
    },
    {
     "output_type": "execute_result",
     "data": {
      "text/plain": "Time Elapsed 00:00:02.30\n"
     },
     "execution_count": 1,
     "metadata": {}
    }
   ]
  },
  {
   "cell_type": "code",
   "execution_count": 1,
   "metadata": {},
   "source": [
    "#r \"nuget:Microsoft.EntityFrameworkCore.Design,5.0.0\"\n",
    "#r \"nuget:Npgsql,5.0.0\"\n",
    "#r \"nuget:Npgsql.EntityFrameworkCore.PostgreSQL,5.0.0\"\n",
    "#r \"./API/bin/Debug/net5.0/BookyApi.dll\""
   ],
   "outputs": [
    {
     "output_type": "execute_result",
     "data": {
      "text/plain": "Installed package Microsoft.EntityFrameworkCore.Design version 5.0.0"
     },
     "execution_count": 1,
     "metadata": {}
    },
    {
     "output_type": "execute_result",
     "data": {
      "text/plain": "Installed package Npgsql version 5.0.0"
     },
     "execution_count": 1,
     "metadata": {}
    },
    {
     "output_type": "execute_result",
     "data": {
      "text/plain": "Installed package Npgsql.EntityFrameworkCore.PostgreSQL version 5.0.0"
     },
     "execution_count": 1,
     "metadata": {}
    }
   ]
  },
  {
   "cell_type": "code",
   "execution_count": 1,
   "metadata": {},
   "source": [
    "using System.Linq;\n",
    "using System.Text.Json;\n",
    "using Microsoft.EntityFrameworkCore;\n",
    "using BookyApi.API.Db;\n",
    "using BookyApi.API.Models;\n",
    "using BookyApi.API.Services.Extensions;\n",
    "\n",
    "var options = new DbContextOptionsBuilder<BookyContext>();\n",
    "options.UseNpgsql(\"Host=localhost;Database=BookyApI;Username=postgres;Password=example;Port=5432\");\n",
    "var context = new BookyContext(options.Options);\n",
    "\n",
    ""
   ],
   "outputs": []
  },
  {
   "cell_type": "code",
   "execution_count": 1,
   "metadata": {},
   "source": [
    "// destroy bookmarks \n",
    "foreach(var bookmark in context.Bookmarks){\n",
    "    context.Remove(bookmark);\n",
    "}\n",
    "\n",
    "context.SaveChanges();\n",
    ""
   ],
   "outputs": []
  },
  {
   "cell_type": "code",
   "execution_count": 1,
   "metadata": {},
   "source": [
    "var sites = new List<string> {\n",
    "    \"https://google.com\",\n",
    "    \"https://en.wikipedia.org/wiki/Main_Page\",\n",
    "    \"https://bing.com\",\n",
    "    \"https://saahilclaypool.github.io\",\n",
    "    \"https://google.com\"\n",
    "};\n",
    "\n",
    "var text = new List<string> {\n",
    "@\"Soccer is an excellent source of excercise\",\n",
    "@\"excercise helps the brain improve its performance. You should take care of your brain.\",\n",
    "@\"your brain is an organ\",\n",
    "@\"some organs deteriorate as you age, causing other people to consider you \"\"old\"\", but don't let that stop you enjoying your life\",\n",
    "@\"or at least.... whatever is left of it\"\n",
    "};"
   ],
   "outputs": []
  },
  {
   "cell_type": "code",
   "execution_count": 1,
   "metadata": {},
   "source": [
    "foreach(var user in context.Users) {\n",
    "    foreach(var url in sites) {\n",
    "        foreach(var fragment in text) {\n",
    "            var bookmark = new Bookmark() {\n",
    "                Content = fragment,\n",
    "                Url = url,\n",
    "                User = user\n",
    "            };\n",
    "            context.Add(bookmark);\n",
    "        }\n",
    "    }\n",
    "}\n",
    "\n",
    "context.SaveChanges();\n",
    "context.Bookmarks"
   ],
   "outputs": [
    {
     "output_type": "execute_result",
     "data": {
      "text/html": "<table><thead><tr><th><i>index</i></th><th>Url</th><th>Content</th><th>UserId</th><th>User</th><th>Id</th></tr></thead><tbody><tr><td>0</td><td><div class=\"dni-plaintext\">https://google.com</div></td><td><div class=\"dni-plaintext\">or at least.... whatever is left of it</div></td><td><div class=\"dni-plaintext\">8d290eca-ad1d-473c-b79e-c6487fa182f3</div></td><td><div class=\"dni-plaintext\">test@test.org</div></td><td><div class=\"dni-plaintext\">66</div></td></tr><tr><td>1</td><td><div class=\"dni-plaintext\">https://google.com</div></td><td><div class=\"dni-plaintext\">your brain is an organ</div></td><td><div class=\"dni-plaintext\">8d290eca-ad1d-473c-b79e-c6487fa182f3</div></td><td><div class=\"dni-plaintext\">test@test.org</div></td><td><div class=\"dni-plaintext\">67</div></td></tr><tr><td>2</td><td><div class=\"dni-plaintext\">https://google.com</div></td><td><div class=\"dni-plaintext\">some organs deteriorate as you age, causing other people to consider you &quot;old&quot;, but don&#39;t let that stop you enjoying your life</div></td><td><div class=\"dni-plaintext\">8d290eca-ad1d-473c-b79e-c6487fa182f3</div></td><td><div class=\"dni-plaintext\">test@test.org</div></td><td><div class=\"dni-plaintext\">68</div></td></tr><tr><td>3</td><td><div class=\"dni-plaintext\">https://google.com</div></td><td><div class=\"dni-plaintext\">or at least.... whatever is left of it</div></td><td><div class=\"dni-plaintext\">8d290eca-ad1d-473c-b79e-c6487fa182f3</div></td><td><div class=\"dni-plaintext\">test@test.org</div></td><td><div class=\"dni-plaintext\">69</div></td></tr><tr><td>4</td><td><div class=\"dni-plaintext\">https://en.wikipedia.org/wiki/Main_Page</div></td><td><div class=\"dni-plaintext\">Soccer is an excellent source of excercise</div></td><td><div class=\"dni-plaintext\">8d290eca-ad1d-473c-b79e-c6487fa182f3</div></td><td><div class=\"dni-plaintext\">test@test.org</div></td><td><div class=\"dni-plaintext\">70</div></td></tr><tr><td>5</td><td><div class=\"dni-plaintext\">https://en.wikipedia.org/wiki/Main_Page</div></td><td><div class=\"dni-plaintext\">excercise helps the brain improve its performance. You should take care of your brain.</div></td><td><div class=\"dni-plaintext\">8d290eca-ad1d-473c-b79e-c6487fa182f3</div></td><td><div class=\"dni-plaintext\">test@test.org</div></td><td><div class=\"dni-plaintext\">71</div></td></tr><tr><td>6</td><td><div class=\"dni-plaintext\">https://en.wikipedia.org/wiki/Main_Page</div></td><td><div class=\"dni-plaintext\">your brain is an organ</div></td><td><div class=\"dni-plaintext\">8d290eca-ad1d-473c-b79e-c6487fa182f3</div></td><td><div class=\"dni-plaintext\">test@test.org</div></td><td><div class=\"dni-plaintext\">72</div></td></tr><tr><td>7</td><td><div class=\"dni-plaintext\">https://en.wikipedia.org/wiki/Main_Page</div></td><td><div class=\"dni-plaintext\">some organs deteriorate as you age, causing other people to consider you &quot;old&quot;, but don&#39;t let that stop you enjoying your life</div></td><td><div class=\"dni-plaintext\">8d290eca-ad1d-473c-b79e-c6487fa182f3</div></td><td><div class=\"dni-plaintext\">test@test.org</div></td><td><div class=\"dni-plaintext\">73</div></td></tr><tr><td>8</td><td><div class=\"dni-plaintext\">https://en.wikipedia.org/wiki/Main_Page</div></td><td><div class=\"dni-plaintext\">or at least.... whatever is left of it</div></td><td><div class=\"dni-plaintext\">8d290eca-ad1d-473c-b79e-c6487fa182f3</div></td><td><div class=\"dni-plaintext\">test@test.org</div></td><td><div class=\"dni-plaintext\">74</div></td></tr><tr><td>9</td><td><div class=\"dni-plaintext\">https://bing.com</div></td><td><div class=\"dni-plaintext\">Soccer is an excellent source of excercise</div></td><td><div class=\"dni-plaintext\">8d290eca-ad1d-473c-b79e-c6487fa182f3</div></td><td><div class=\"dni-plaintext\">test@test.org</div></td><td><div class=\"dni-plaintext\">75</div></td></tr><tr><td>10</td><td><div class=\"dni-plaintext\">https://bing.com</div></td><td><div class=\"dni-plaintext\">excercise helps the brain improve its performance. You should take care of your brain.</div></td><td><div class=\"dni-plaintext\">8d290eca-ad1d-473c-b79e-c6487fa182f3</div></td><td><div class=\"dni-plaintext\">test@test.org</div></td><td><div class=\"dni-plaintext\">76</div></td></tr><tr><td>11</td><td><div class=\"dni-plaintext\">https://google.com</div></td><td><div class=\"dni-plaintext\">excercise helps the brain improve its performance. You should take care of your brain.</div></td><td><div class=\"dni-plaintext\">8d290eca-ad1d-473c-b79e-c6487fa182f3</div></td><td><div class=\"dni-plaintext\">test@test.org</div></td><td><div class=\"dni-plaintext\">77</div></td></tr><tr><td>12</td><td><div class=\"dni-plaintext\">https://bing.com</div></td><td><div class=\"dni-plaintext\">your brain is an organ</div></td><td><div class=\"dni-plaintext\">8d290eca-ad1d-473c-b79e-c6487fa182f3</div></td><td><div class=\"dni-plaintext\">test@test.org</div></td><td><div class=\"dni-plaintext\">78</div></td></tr><tr><td>13</td><td><div class=\"dni-plaintext\">https://bing.com</div></td><td><div class=\"dni-plaintext\">or at least.... whatever is left of it</div></td><td><div class=\"dni-plaintext\">8d290eca-ad1d-473c-b79e-c6487fa182f3</div></td><td><div class=\"dni-plaintext\">test@test.org</div></td><td><div class=\"dni-plaintext\">79</div></td></tr><tr><td>14</td><td><div class=\"dni-plaintext\">https://saahilclaypool.github.io</div></td><td><div class=\"dni-plaintext\">Soccer is an excellent source of excercise</div></td><td><div class=\"dni-plaintext\">8d290eca-ad1d-473c-b79e-c6487fa182f3</div></td><td><div class=\"dni-plaintext\">test@test.org</div></td><td><div class=\"dni-plaintext\">80</div></td></tr><tr><td>15</td><td><div class=\"dni-plaintext\">https://saahilclaypool.github.io</div></td><td><div class=\"dni-plaintext\">excercise helps the brain improve its performance. You should take care of your brain.</div></td><td><div class=\"dni-plaintext\">8d290eca-ad1d-473c-b79e-c6487fa182f3</div></td><td><div class=\"dni-plaintext\">test@test.org</div></td><td><div class=\"dni-plaintext\">81</div></td></tr><tr><td>16</td><td><div class=\"dni-plaintext\">https://saahilclaypool.github.io</div></td><td><div class=\"dni-plaintext\">your brain is an organ</div></td><td><div class=\"dni-plaintext\">8d290eca-ad1d-473c-b79e-c6487fa182f3</div></td><td><div class=\"dni-plaintext\">test@test.org</div></td><td><div class=\"dni-plaintext\">82</div></td></tr><tr><td>17</td><td><div class=\"dni-plaintext\">https://saahilclaypool.github.io</div></td><td><div class=\"dni-plaintext\">some organs deteriorate as you age, causing other people to consider you &quot;old&quot;, but don&#39;t let that stop you enjoying your life</div></td><td><div class=\"dni-plaintext\">8d290eca-ad1d-473c-b79e-c6487fa182f3</div></td><td><div class=\"dni-plaintext\">test@test.org</div></td><td><div class=\"dni-plaintext\">83</div></td></tr><tr><td>18</td><td><div class=\"dni-plaintext\">https://saahilclaypool.github.io</div></td><td><div class=\"dni-plaintext\">or at least.... whatever is left of it</div></td><td><div class=\"dni-plaintext\">8d290eca-ad1d-473c-b79e-c6487fa182f3</div></td><td><div class=\"dni-plaintext\">test@test.org</div></td><td><div class=\"dni-plaintext\">84</div></td></tr><tr><td>19</td><td><div class=\"dni-plaintext\">https://google.com</div></td><td><div class=\"dni-plaintext\">Soccer is an excellent source of excercise</div></td><td><div class=\"dni-plaintext\">8d290eca-ad1d-473c-b79e-c6487fa182f3</div></td><td><div class=\"dni-plaintext\">test@test.org</div></td><td><div class=\"dni-plaintext\">85</div></td></tr><tr><td colspan=\"6\">(5 more)</td></tr></tbody></table>"
     },
     "execution_count": 1,
     "metadata": {}
    }
   ]
  }
 ],
 "metadata": {
  "kernelspec": {
   "display_name": ".NET (C#)",
   "language": "C#",
   "name": ".net-csharp"
  },
  "language_info": {
   "file_extension": ".cs",
   "mimetype": "text/x-csharp",
   "name": "C#",
   "pygments_lexer": "csharp",
   "version": "8.0"
  }
 },
 "nbformat": 4,
 "nbformat_minor": 4
}