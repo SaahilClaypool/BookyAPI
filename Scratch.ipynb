{
 "cells": [
  {
   "cell_type": "code",
   "execution_count": 1,
   "metadata": {},
   "source": [
    "Environment.Version"
   ],
   "outputs": [
    {
     "output_type": "execute_result",
     "data": {
      "text/html": "<table><thead><tr><th>Major</th><th>Minor</th><th>Build</th><th>Revision</th><th>MajorRevision</th><th>MinorRevision</th></tr></thead><tbody><tr><td><div class=\"dni-plaintext\">5</div></td><td><div class=\"dni-plaintext\">0</div></td><td><div class=\"dni-plaintext\">0</div></td><td><div class=\"dni-plaintext\">-1</div></td><td><div class=\"dni-plaintext\">-1</div></td><td><div class=\"dni-plaintext\">-1</div></td></tr></tbody></table>"
     },
     "execution_count": 1,
     "metadata": {}
    }
   ]
  },
  {
   "cell_type": "code",
   "execution_count": 1,
   "metadata": {},
   "source": [
    "#!pwsh\n",
    "\n",
    "dotnet build"
   ],
   "outputs": [
    {
     "output_type": "execute_result",
     "data": {
      "text/plain": "Microsoft (R) Build Engine version 16.8.0+126527ff1 for .NET\n"
     },
     "execution_count": 1,
     "metadata": {}
    },
    {
     "output_type": "execute_result",
     "data": {
      "text/plain": "Copyright (C) Microsoft Corporation. All rights reserved.\n"
     },
     "execution_count": 1,
     "metadata": {}
    },
    {
     "output_type": "execute_result",
     "data": {
      "text/plain": "\n"
     },
     "execution_count": 1,
     "metadata": {}
    },
    {
     "output_type": "execute_result",
     "data": {
      "text/plain": "  Determining projects to restore...\n"
     },
     "execution_count": 1,
     "metadata": {}
    },
    {
     "output_type": "execute_result",
     "data": {
      "text/plain": "  All projects are up-to-date for restore.\n"
     },
     "execution_count": 1,
     "metadata": {}
    },
    {
     "output_type": "execute_result",
     "data": {
      "text/plain": "  BookyApi -> /home/saahil/gitProjects/BookyApi/API/bin/Debug/net5.0/BookyApi.dll\n"
     },
     "execution_count": 1,
     "metadata": {}
    },
    {
     "output_type": "execute_result",
     "data": {
      "text/plain": "\n"
     },
     "execution_count": 1,
     "metadata": {}
    },
    {
     "output_type": "execute_result",
     "data": {
      "text/plain": "Build succeeded.\n"
     },
     "execution_count": 1,
     "metadata": {}
    },
    {
     "output_type": "execute_result",
     "data": {
      "text/plain": "    0 Warning(s)\n"
     },
     "execution_count": 1,
     "metadata": {}
    },
    {
     "output_type": "execute_result",
     "data": {
      "text/plain": "    0 Error(s)\n"
     },
     "execution_count": 1,
     "metadata": {}
    },
    {
     "output_type": "execute_result",
     "data": {
      "text/plain": "\n"
     },
     "execution_count": 1,
     "metadata": {}
    },
    {
     "output_type": "execute_result",
     "data": {
      "text/plain": "Time Elapsed 00:00:00.87\n"
     },
     "execution_count": 1,
     "metadata": {}
    }
   ]
  },
  {
   "cell_type": "code",
   "execution_count": 1,
   "metadata": {},
   "source": [
    "#r \"nuget:Microsoft.EntityFrameworkCore.Design,5.0.0\"\n",
    "#r \"nuget:Npgsql,5.0.0\"\n",
    "#r \"nuget:Npgsql.EntityFrameworkCore.PostgreSQL,5.0.0\"\n",
    "#r \"./API/bin/Debug/net5.0/BookyApi.dll\""
   ],
   "outputs": [
    {
     "output_type": "execute_result",
     "data": {
      "text/plain": "Installed package Npgsql.EntityFrameworkCore.PostgreSQL version 5.0.0"
     },
     "execution_count": 1,
     "metadata": {}
    },
    {
     "output_type": "execute_result",
     "data": {
      "text/plain": "Installed package Npgsql version 5.0.0"
     },
     "execution_count": 1,
     "metadata": {}
    },
    {
     "output_type": "execute_result",
     "data": {
      "text/plain": "Installed package Microsoft.EntityFrameworkCore.Design version 5.0.0"
     },
     "execution_count": 1,
     "metadata": {}
    }
   ]
  },
  {
   "cell_type": "code",
   "execution_count": 1,
   "metadata": {},
   "source": [
    "using System.Linq;\n",
    "using System.Text.Json;\n",
    "using Microsoft.EntityFrameworkCore;\n",
    "using BookyApi.API.Db;\n",
    "using BookyApi.API.Models;\n",
    "using BookyApi.API.Services.Extensions;\n",
    "\n",
    "var options = new DbContextOptionsBuilder<BookyContext>();\n",
    "options.UseNpgsql(\"Host=localhost;Database=BookyApI;Username=postgres;Password=example;Port=5432\");\n",
    "var context = new BookyContext(options.Options);\n",
    "\n",
    ""
   ],
   "outputs": []
  },
  {
   "cell_type": "code",
   "execution_count": 1,
   "metadata": {},
   "source": [
    "var books = context.Bookmarks.Include(b => b.User).ToList();\n",
    "books.Select(b => new { Content = b.Content, User = b.User.Email })"
   ],
   "outputs": [
    {
     "output_type": "execute_result",
     "data": {
      "text/html": "<table><thead><tr><th><i>index</i></th><th>Content</th><th>User</th></tr></thead><tbody><tr><td>0</td><td><div class=\"dni-plaintext\">Here comes santa</div></td><td><div class=\"dni-plaintext\">test@test.org</div></td></tr><tr><td>1</td><td><div class=\"dni-plaintext\">Some mark</div></td><td><div class=\"dni-plaintext\">test@test.org</div></td></tr><tr><td>2</td><td><div class=\"dni-plaintext\">Test content please ignore</div></td><td><div class=\"dni-plaintext\">test@test.org</div></td></tr><tr><td>3</td><td><div class=\"dni-plaintext\">Hello world</div></td><td><div class=\"dni-plaintext\">test@test.org</div></td></tr></tbody></table>"
     },
     "execution_count": 1,
     "metadata": {}
    }
   ]
  },
  {
   "cell_type": "code",
   "execution_count": 1,
   "metadata": {},
   "source": [
    "// What users do I have locally?\n",
    "context.Set<User>().ToList()"
   ],
   "outputs": [
    {
     "output_type": "execute_result",
     "data": {
      "text/html": "<table><thead><tr><th><i>index</i></th><th>Bookmarks</th><th>Id</th><th>UserName</th><th>NormalizedUserName</th><th>Email</th><th>NormalizedEmail</th><th>EmailConfirmed</th><th>PasswordHash</th><th>SecurityStamp</th><th>ConcurrencyStamp</th><th>PhoneNumber</th><th>PhoneNumberConfirmed</th><th>TwoFactorEnabled</th><th>LockoutEnd</th><th>LockoutEnabled</th><th>AccessFailedCount</th></tr></thead><tbody><tr><td>0</td><td><div class=\"dni-plaintext\">[ BookyApi.API.Models.Bookmark, BookyApi.API.Models.Bookmark, BookyApi.API.Models.Bookmark, BookyApi.API.Models.Bookmark ]</div></td><td><div class=\"dni-plaintext\">8f33a11f-6ee1-4bab-b232-0b6f67d4a00f</div></td><td><div class=\"dni-plaintext\">test@test.org</div></td><td><div class=\"dni-plaintext\">TEST@TEST.ORG</div></td><td><div class=\"dni-plaintext\">test@test.org</div></td><td><div class=\"dni-plaintext\">TEST@TEST.ORG</div></td><td><div class=\"dni-plaintext\">False</div></td><td><div class=\"dni-plaintext\">AQAAAAEAACcQAAAAEJ9hxfQYugjjRKkCmemMh8j6nNlWolV5LBPlz05Yki5buDUX8+SwzLrjTPOVbpagmQ==</div></td><td><div class=\"dni-plaintext\">3MCR7UH2CYVZRZC7E7SVZIMOACYB5Q7Q</div></td><td><div class=\"dni-plaintext\">e092d6c5-d6e2-4d46-be49-28ce29acc381</div></td><td><div class=\"dni-plaintext\">&lt;null&gt;</div></td><td><div class=\"dni-plaintext\">False</div></td><td><div class=\"dni-plaintext\">False</div></td><td><div class=\"dni-plaintext\">&lt;null&gt;</div></td><td><div class=\"dni-plaintext\">True</div></td><td><div class=\"dni-plaintext\">0</div></td></tr></tbody></table>"
     },
     "execution_count": 1,
     "metadata": {}
    }
   ]
  }
 ],
 "metadata": {
  "kernelspec": {
   "display_name": ".NET (C#)",
   "language": "C#",
   "name": ".net-csharp"
  },
  "language_info": {
   "file_extension": ".cs",
   "mimetype": "text/x-csharp",
   "name": "C#",
   "pygments_lexer": "csharp",
   "version": "8.0"
  }
 },
 "nbformat": 4,
 "nbformat_minor": 4
}