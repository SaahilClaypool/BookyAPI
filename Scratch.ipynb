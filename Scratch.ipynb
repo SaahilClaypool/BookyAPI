{
 "cells": [
  {
   "cell_type": "code",
   "execution_count": 1,
   "metadata": {},
   "source": [
    "Environment.Version"
   ],
   "outputs": [
    {
     "output_type": "execute_result",
     "data": {
      "text/html": "<table><thead><tr><th>Major</th><th>Minor</th><th>Build</th><th>Revision</th><th>MajorRevision</th><th>MinorRevision</th></tr></thead><tbody><tr><td><div class=\"dni-plaintext\">5</div></td><td><div class=\"dni-plaintext\">0</div></td><td><div class=\"dni-plaintext\">0</div></td><td><div class=\"dni-plaintext\">-1</div></td><td><div class=\"dni-plaintext\">-1</div></td><td><div class=\"dni-plaintext\">-1</div></td></tr></tbody></table>"
     },
     "execution_count": 1,
     "metadata": {}
    }
   ]
  },
  {
   "cell_type": "code",
   "execution_count": 1,
   "metadata": {},
   "source": [
    "#!pwsh\n",
    "\n",
    "dotnet build"
   ],
   "outputs": [
    {
     "output_type": "execute_result",
     "data": {
      "text/plain": "Microsoft (R) Build Engine version 16.8.0+126527ff1 for .NET\n"
     },
     "execution_count": 1,
     "metadata": {}
    },
    {
     "output_type": "execute_result",
     "data": {
      "text/plain": "Copyright (C) Microsoft Corporation. All rights reserved.\n"
     },
     "execution_count": 1,
     "metadata": {}
    },
    {
     "output_type": "execute_result",
     "data": {
      "text/plain": "\n"
     },
     "execution_count": 1,
     "metadata": {}
    },
    {
     "output_type": "execute_result",
     "data": {
      "text/plain": "  Determining projects to restore...\n"
     },
     "execution_count": 1,
     "metadata": {}
    },
    {
     "output_type": "execute_result",
     "data": {
      "text/plain": "  All projects are up-to-date for restore.\n"
     },
     "execution_count": 1,
     "metadata": {}
    },
    {
     "output_type": "execute_result",
     "data": {
      "text/plain": "/home/saahil/gitProjects/BookyApi/API/WeatherForecast.cs(13,23): warning CS8618: Non-nullable property 'Summary' must contain a non-null value when exiting constructor. Consider declaring the property as nullable. [/home/saahil/gitProjects/BookyApi/API/BookyApi.csproj]\n"
     },
     "execution_count": 1,
     "metadata": {}
    },
    {
     "output_type": "execute_result",
     "data": {
      "text/plain": "  BookyApi -> /home/saahil/gitProjects/BookyApi/API/bin/Debug/net5.0/BookyApi.dll\n"
     },
     "execution_count": 1,
     "metadata": {}
    },
    {
     "output_type": "execute_result",
     "data": {
      "text/plain": "\n"
     },
     "execution_count": 1,
     "metadata": {}
    },
    {
     "output_type": "execute_result",
     "data": {
      "text/plain": "Build succeeded.\n"
     },
     "execution_count": 1,
     "metadata": {}
    },
    {
     "output_type": "execute_result",
     "data": {
      "text/plain": "\n"
     },
     "execution_count": 1,
     "metadata": {}
    },
    {
     "output_type": "execute_result",
     "data": {
      "text/plain": "/home/saahil/gitProjects/BookyApi/API/WeatherForecast.cs(13,23): warning CS8618: Non-nullable property 'Summary' must contain a non-null value when exiting constructor. Consider declaring the property as nullable. [/home/saahil/gitProjects/BookyApi/API/BookyApi.csproj]\n"
     },
     "execution_count": 1,
     "metadata": {}
    },
    {
     "output_type": "execute_result",
     "data": {
      "text/plain": "    1 Warning(s)\n"
     },
     "execution_count": 1,
     "metadata": {}
    },
    {
     "output_type": "execute_result",
     "data": {
      "text/plain": "    0 Error(s)\n"
     },
     "execution_count": 1,
     "metadata": {}
    },
    {
     "output_type": "execute_result",
     "data": {
      "text/plain": "\n"
     },
     "execution_count": 1,
     "metadata": {}
    },
    {
     "output_type": "execute_result",
     "data": {
      "text/plain": "Time Elapsed 00:00:01.03\n"
     },
     "execution_count": 1,
     "metadata": {}
    }
   ]
  },
  {
   "cell_type": "code",
   "execution_count": 1,
   "metadata": {},
   "source": [
    "#r \"nuget:Microsoft.EntityFrameworkCore.Design,5.0.0\"\n",
    "#r \"nuget:Npgsql,5.0.0\"\n",
    "#r \"nuget:Npgsql.EntityFrameworkCore.PostgreSQL,5.0.0\"\n",
    "#r \"./API/bin/Debug/net5.0/BookyApi.dll\""
   ],
   "outputs": [
    {
     "output_type": "execute_result",
     "data": {
      "text/plain": "Installed package Npgsql.EntityFrameworkCore.PostgreSQL version 5.0.0"
     },
     "execution_count": 1,
     "metadata": {}
    },
    {
     "output_type": "execute_result",
     "data": {
      "text/plain": "Installed package Npgsql version 5.0.0"
     },
     "execution_count": 1,
     "metadata": {}
    },
    {
     "output_type": "execute_result",
     "data": {
      "text/plain": "Installed package Microsoft.EntityFrameworkCore.Design version 5.0.0"
     },
     "execution_count": 1,
     "metadata": {}
    }
   ]
  },
  {
   "cell_type": "code",
   "execution_count": 1,
   "metadata": {},
   "source": [
    "using System.Linq;\n",
    "using System.Text.Json;\n",
    "using Microsoft.EntityFrameworkCore;\n",
    "using BookyApi.API.Db;\n",
    "using BookyApi.API.Models;\n",
    "using BookyApi.API.Services.Extensions;\n",
    "\n",
    "var options = new DbContextOptionsBuilder<BookyContext>();\n",
    "options.UseNpgsql(\"Host=localhost;Database=BookyApI;Username=postgres;Password=example;Port=5432\");\n",
    "options.EnableSensitiveDataLogging();\n",
    "\n",
    "var context = new BookyContext(options.Options);\n",
    "\n",
    ""
   ],
   "outputs": []
  },
  {
   "cell_type": "code",
   "execution_count": 1,
   "metadata": {},
   "source": [
    "var books = context.Bookmarks.ToList();\n",
    "books.Select(b => b.Content).Dbg();\n",
    "\n",
    "context.Set<Bookmark>().All(b => b.Content.Contains(\"test\")).Dbg();"
   ],
   "outputs": [
    {
     "output_type": "execute_result",
     "data": {
      "text/plain": "[\n  \"Here comes santa\"\n]\n"
     },
     "execution_count": 1,
     "metadata": {}
    },
    {
     "output_type": "execute_result",
     "data": {
      "text/plain": "false\n"
     },
     "execution_count": 1,
     "metadata": {}
    }
   ]
  }
 ],
 "metadata": {
  "kernelspec": {
   "display_name": ".NET (C#)",
   "language": "C#",
   "name": ".net-csharp"
  },
  "language_info": {
   "file_extension": ".cs",
   "mimetype": "text/x-csharp",
   "name": "C#",
   "pygments_lexer": "csharp",
   "version": "8.0"
  }
 },
 "nbformat": 4,
 "nbformat_minor": 4
}