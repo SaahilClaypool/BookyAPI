{
 "cells": [
  {
   "cell_type": "code",
   "execution_count": 1,
   "metadata": {},
   "source": [
    "Environment.Version"
   ],
   "outputs": [
    {
     "output_type": "execute_result",
     "data": {
      "text/html": "<table><thead><tr><th>Major</th><th>Minor</th><th>Build</th><th>Revision</th><th>MajorRevision</th><th>MinorRevision</th></tr></thead><tbody><tr><td><div class=\"dni-plaintext\">5</div></td><td><div class=\"dni-plaintext\">0</div></td><td><div class=\"dni-plaintext\">0</div></td><td><div class=\"dni-plaintext\">-1</div></td><td><div class=\"dni-plaintext\">-1</div></td><td><div class=\"dni-plaintext\">-1</div></td></tr></tbody></table>"
     },
     "execution_count": 1,
     "metadata": {}
    }
   ]
  },
  {
   "cell_type": "code",
   "execution_count": 1,
   "metadata": {},
   "source": [
    "#!pwsh\n",
    "\n",
    "dotnet build"
   ],
   "outputs": [
    {
     "output_type": "execute_result",
     "data": {
      "text/plain": "Microsoft (R) Build Engine version 16.8.0+126527ff1 for .NET\n"
     },
     "execution_count": 1,
     "metadata": {}
    },
    {
     "output_type": "execute_result",
     "data": {
      "text/plain": "Copyright (C) Microsoft Corporation. All rights reserved.\n"
     },
     "execution_count": 1,
     "metadata": {}
    },
    {
     "output_type": "execute_result",
     "data": {
      "text/plain": "\n"
     },
     "execution_count": 1,
     "metadata": {}
    },
    {
     "output_type": "execute_result",
     "data": {
      "text/plain": "  Determining projects to restore...\n"
     },
     "execution_count": 1,
     "metadata": {}
    },
    {
     "output_type": "execute_result",
     "data": {
      "text/plain": "  All projects are up-to-date for restore.\n"
     },
     "execution_count": 1,
     "metadata": {}
    },
    {
     "output_type": "execute_result",
     "data": {
      "text/plain": "  Shared -> /home/saahil/gitProjects/BookyApi/Shared/bin/Debug/net5.0/Shared.dll\n"
     },
     "execution_count": 1,
     "metadata": {}
    },
    {
     "output_type": "execute_result",
     "data": {
      "text/plain": "  UI -> /home/saahil/gitProjects/BookyApi/UI/bin/Debug/net5.0/UI.dll\n"
     },
     "execution_count": 1,
     "metadata": {}
    },
    {
     "output_type": "execute_result",
     "data": {
      "text/plain": "  UI (Blazor output) -> /home/saahil/gitProjects/BookyApi/UI/bin/Debug/net5.0/wwwroot\n"
     },
     "execution_count": 1,
     "metadata": {}
    },
    {
     "output_type": "execute_result",
     "data": {
      "text/plain": "  BookyApi -> /home/saahil/gitProjects/BookyApi/API/bin/Debug/net5.0/BookyApi.dll\n"
     },
     "execution_count": 1,
     "metadata": {}
    },
    {
     "output_type": "execute_result",
     "data": {
      "text/plain": "  BookyApi -> /home/saahil/gitProjects/BookyApi/API/bin/Debug/net5.0/BookyApi.Views.dll\n"
     },
     "execution_count": 1,
     "metadata": {}
    },
    {
     "output_type": "execute_result",
     "data": {
      "text/plain": "\n"
     },
     "execution_count": 1,
     "metadata": {}
    },
    {
     "output_type": "execute_result",
     "data": {
      "text/plain": "Build succeeded.\n"
     },
     "execution_count": 1,
     "metadata": {}
    },
    {
     "output_type": "execute_result",
     "data": {
      "text/plain": "    0 Warning(s)\n"
     },
     "execution_count": 1,
     "metadata": {}
    },
    {
     "output_type": "execute_result",
     "data": {
      "text/plain": "    0 Error(s)\n"
     },
     "execution_count": 1,
     "metadata": {}
    },
    {
     "output_type": "execute_result",
     "data": {
      "text/plain": "\n"
     },
     "execution_count": 1,
     "metadata": {}
    },
    {
     "output_type": "execute_result",
     "data": {
      "text/plain": "Time Elapsed 00:00:02.13\n"
     },
     "execution_count": 1,
     "metadata": {}
    }
   ]
  },
  {
   "cell_type": "code",
   "execution_count": 1,
   "metadata": {},
   "source": [
    "#r \"nuget:Microsoft.EntityFrameworkCore.Design,5.0.0\"\n",
    "#r \"nuget:Npgsql,5.0.0\"\n",
    "#r \"nuget:Npgsql.EntityFrameworkCore.PostgreSQL,5.0.0\"\n",
    "#r \"./API/bin/Debug/net5.0/BookyApi.dll\""
   ],
   "outputs": [
    {
     "output_type": "execute_result",
     "data": {
      "text/plain": "Installed package Npgsql version 5.0.0"
     },
     "execution_count": 1,
     "metadata": {}
    },
    {
     "output_type": "execute_result",
     "data": {
      "text/plain": "Installed package Microsoft.EntityFrameworkCore.Design version 5.0.0"
     },
     "execution_count": 1,
     "metadata": {}
    },
    {
     "output_type": "execute_result",
     "data": {
      "text/plain": "Installed package Npgsql.EntityFrameworkCore.PostgreSQL version 5.0.0"
     },
     "execution_count": 1,
     "metadata": {}
    }
   ]
  },
  {
   "cell_type": "code",
   "execution_count": 1,
   "metadata": {},
   "source": [
    "using System.Linq;\n",
    "using System.Text.Json;\n",
    "using Microsoft.EntityFrameworkCore;\n",
    "using BookyApi.API.Db;\n",
    "using BookyApi.API.Models;\n",
    "using BookyApi.API.Services.Extensions;\n",
    "\n",
    "var options = new DbContextOptionsBuilder<BookyContext>();\n",
    "options.UseNpgsql(\"Host=localhost;Database=BookyApI;Username=postgres;Password=example;Port=5432\");\n",
    "var context = new BookyContext(options.Options);\n",
    "\n",
    ""
   ],
   "outputs": []
  },
  {
   "cell_type": "code",
   "execution_count": 1,
   "metadata": {},
   "source": [
    "var books = context.Bookmarks.Include(b => b.User).ToList();\n",
    "books.Select(b => new { Content = b.Content, User = b.User.Email })"
   ],
   "outputs": [
    {
     "output_type": "execute_result",
     "data": {
      "text/html": "<table><thead><tr><th><i>index</i></th><th>Content</th><th>User</th></tr></thead><tbody><tr><td>0</td><td><div class=\"dni-plaintext\">Here comes santa</div></td><td><div class=\"dni-plaintext\">test@test.org</div></td></tr><tr><td>1</td><td><div class=\"dni-plaintext\">Some mark</div></td><td><div class=\"dni-plaintext\">test@test.org</div></td></tr><tr><td>2</td><td><div class=\"dni-plaintext\">Test content please ignore</div></td><td><div class=\"dni-plaintext\">test@test.org</div></td></tr><tr><td>3</td><td><div class=\"dni-plaintext\">Hello world</div></td><td><div class=\"dni-plaintext\">test@test.org</div></td></tr></tbody></table>"
     },
     "execution_count": 1,
     "metadata": {}
    }
   ]
  },
  {
   "cell_type": "code",
   "execution_count": 1,
   "metadata": {},
   "source": [
    "// What users do I have locally?\n",
    "context.Set<User>().Remove(context.Users.OrderBy(u => u.Id).Last());\n",
    "context.SaveChanges();"
   ],
   "outputs": [
    {
     "output_type": "error",
     "ename": "Error",
     "evalue": "System.InvalidOperationException: Sequence contains no elements\n   at System.Linq.ThrowHelper.ThrowNoElementsException()\n   at System.Linq.Enumerable.Single[TSource](IEnumerable`1 source)\n   at Microsoft.EntityFrameworkCore.Query.Internal.QueryCompiler.Execute[TResult](Expression query)\n   at Microsoft.EntityFrameworkCore.Query.Internal.EntityQueryProvider.Execute[TResult](Expression expression)\n   at System.Linq.Queryable.Last[TSource](IQueryable`1 source)\n   at Submission#13.<<Initialize>>d__0.MoveNext()\n--- End of stack trace from previous location ---\n   at Microsoft.CodeAnalysis.Scripting.ScriptExecutionState.RunSubmissionsAsync[TResult](ImmutableArray`1 precedingExecutors, Func`2 currentExecutor, StrongBox`1 exceptionHolderOpt, Func`2 catchExceptionOpt, CancellationToken cancellationToken)",
     "traceback": []
    }
   ]
  }
 ],
 "metadata": {
  "kernelspec": {
   "display_name": ".NET (C#)",
   "language": "C#",
   "name": ".net-csharp"
  },
  "language_info": {
   "file_extension": ".cs",
   "mimetype": "text/x-csharp",
   "name": "C#",
   "pygments_lexer": "csharp",
   "version": "8.0"
  }
 },
 "nbformat": 4,
 "nbformat_minor": 4
}